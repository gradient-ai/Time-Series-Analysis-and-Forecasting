{
 "cells": [
  {
   "cell_type": "markdown",
   "metadata": {
    "gradient": {
     "editing": false
    }
   },
   "source": [
    "# Introduction to Time Series Analysis\n",
    "\n",
    "For a more detailed breakdown of the theory behind the code, check out the [full article](https://blog.paperspace.com/introduction-time-series-analysis) on the Paperspace blog."
   ]
  },
  {
   "cell_type": "code",
   "execution_count": null,
   "metadata": {},
   "outputs": [],
   "source": [
    "# Download the data\n",
    "!wget https://s3.amazonaws.com/ps.public.resources/ml-showcase/jena_climate_2009_2016.csv"
   ]
  },
  {
   "cell_type": "code",
   "execution_count": null,
   "metadata": {
    "gradient": {}
   },
   "outputs": [],
   "source": [
    "import pandas as pd\n",
    "import matplotlib.pyplot as plt\n",
    "\n",
    "import warnings\n",
    "warnings.simplefilter(action='ignore', category=FutureWarning)\n",
    "\n",
    "\n",
    "df = pd.read_csv('jena_climate_2009_2016.csv')\n",
    "\n",
    "time = pd.to_datetime(df.pop('Date Time'), format='%d.%m.%Y %H:%M:%S')\n",
    "series = df['T (degC)']\n",
    "series.index = time\n",
    "\n",
    "print(df)"
   ]
  },
  {
   "cell_type": "code",
   "execution_count": null,
   "metadata": {
    "gradient": {}
   },
   "outputs": [],
   "source": [
    "series.plot()\n",
    "plt.ylabel('Temp')\n",
    "plt.show()"
   ]
  },
  {
   "cell_type": "code",
   "execution_count": null,
   "metadata": {
    "gradient": {}
   },
   "outputs": [],
   "source": [
    "import numpy as np\n",
    "\n",
    "plt.plot(series.index, np.array([series.mean()] * len(series)))\n",
    "\n",
    "x = np.arange(len(series))\n",
    "y = series.values\n",
    "m, c = np.polyfit(x, y, 1)\n",
    "\n",
    "plt.plot(series.index, m*x + c)\n",
    "\n",
    "series.rolling(3600).mean().plot()\n",
    "\n",
    "plt.legend(['mean', 'regression line', 'rolling mean'])\n",
    "plt.ylabel('Temp')\n",
    "plt.show()\n",
    "\n",
    "\n",
    "roll_std = series.rolling(3600).std()\n",
    "roll_std.dropna(inplace=True)\n",
    "plt.plot(roll_std.index, np.array([roll_std.mean()] * len(roll_std)))\n",
    "\n",
    "x = np.arange(len(roll_std))\n",
    "y = roll_std.values\n",
    "m, c = np.polyfit(x, y, 1)\n",
    "\n",
    "plt.plot(roll_std.index, m*x + c)\n",
    "\n",
    "roll_std.plot()\n",
    "plt.legend(['rolling std mean', 'rolling std regression', 'rolling std'])\n",
    "plt.ylabel('Temp')\n",
    "plt.show()"
   ]
  },
  {
   "cell_type": "code",
   "execution_count": null,
   "metadata": {
    "gradient": {}
   },
   "outputs": [],
   "source": [
    "def correlation(x, y):\n",
    "    x_norm = x - x.mean()\n",
    "    y_norm = y - y.mean()\n",
    "    return np.sum(x_norm * y_norm) / np.sqrt(np.sum(x_norm ** 2) * np.sum(y_norm ** 2))"
   ]
  },
  {
   "cell_type": "code",
   "execution_count": null,
   "metadata": {
    "gradient": {}
   },
   "outputs": [],
   "source": [
    "def autocorrelation(x, k):\n",
    "    val_0 = np.sum((x - x.mean()) ** 2) / len(x)\n",
    "    val_k = np.sum((x[:-k] - x.mean()) * (x[k:] - x.mean())) / len(x)\n",
    "    return val_k / val_0"
   ]
  },
  {
   "cell_type": "code",
   "execution_count": null,
   "metadata": {
    "gradient": {}
   },
   "outputs": [],
   "source": [
    "from statsmodels.graphics.tsaplots import plot_acf, plot_pacf\n",
    "\n",
    "def get_acf_pacf_plots(df):\n",
    "    fig, ax = plt.subplots(2, figsize=(12,6))\n",
    "    plt.xlabel('Lag Order')\n",
    "    ax[0] = plot_acf(df, ax=ax[0])\n",
    "    ax[1] = plot_pacf(df, ax=ax[1])\n",
    "\n",
    "get_acf_pacf_plots(series[5::6])\n",
    "plt.show()"
   ]
  },
  {
   "cell_type": "code",
   "execution_count": null,
   "metadata": {
    "gradient": {}
   },
   "outputs": [],
   "source": [
    "series2 = series[119::120]\n",
    "get_acf_pacf_plots(series2)\n",
    "plt.show()"
   ]
  },
  {
   "cell_type": "code",
   "execution_count": null,
   "metadata": {
    "gradient": {}
   },
   "outputs": [],
   "source": [
    "series2 = series2[30::31]\n",
    "get_acf_pacf_plots(series2)\n",
    "plt.show()"
   ]
  },
  {
   "cell_type": "code",
   "execution_count": null,
   "metadata": {
    "gradient": {}
   },
   "outputs": [],
   "source": [
    "from scipy.fft import fft\n",
    "\n",
    "fft_vals = fft(series[5::6].values)\n",
    "f_per_dataset = np.arange(0, len(fft_vals))\n",
    "\n",
    "n_samples_h = len(series[5::6])\n",
    "\n",
    "hours_per_year = 24*365.2524\n",
    "years_per_dataset = n_samples_h/(hours_per_year)\n",
    "\n",
    "f_per_year = f_per_dataset/years_per_dataset\n",
    "plt.step(f_per_year, np.abs(fft_vals))\n",
    "plt.xscale('log')\n",
    "plt.xticks([1, 365.2524], labels=['1/Year', '1/day'])\n",
    "_ = plt.xlabel('Frequency (log scale)')\n",
    "plt.show()\n"
   ]
  },
  {
   "cell_type": "code",
   "execution_count": null,
   "metadata": {
    "gradient": {}
   },
   "outputs": [],
   "source": [
    "from statsmodels.tsa.stattools import adfuller\n",
    "\n",
    "def test_dickey_fuller_stationarity(df):\n",
    "    dftest = adfuller(df, autolag='AIC')\n",
    "    dfoutput = pd.Series(dftest[0:4], index=['Test Statistic',\n",
    "                                             'p-value',\n",
    "                                             'Number of Lags Used',\n",
    "                                             'Number of Observations Used'])\n",
    "    for key,value in dftest[4].items():\n",
    "        dfoutput['Critical Value (%s)'%key] = value\n",
    "    if dfoutput['Critical Value (1%)'] <  dfoutput['Test Statistic']:\n",
    "        print('Series is not stationary with 99% confidence. ')\n",
    "    elif dfoutput['Critical Value (5%)'] < dfoutput['Test Statistic']:\n",
    "        print('Series is not stationary with 95% confidence. ')\n",
    "    elif dfoutput['Critical Value (10%)'] < dfoutput['Test Statistic']:\n",
    "        print('Series is not stationary with 90% confidence. ')\n",
    "    else:\n",
    "        print('Series is possibly stationary. ')\n",
    "    return dfoutput"
   ]
  },
  {
   "cell_type": "code",
   "execution_count": null,
   "metadata": {
    "gradient": {}
   },
   "outputs": [],
   "source": [
    "from statsmodels.tsa.stattools import kpss\n",
    "\n",
    "def test_kpss(df):\n",
    "    dftest = kpss(df)\n",
    "    dfoutput = pd.Series(dftest[0:3], index=['Test Statistic',\n",
    "                                             'p-value',\n",
    "                                             'Number of Lags Used'])\n",
    "    for key,value in dftest[3].items():\n",
    "        dfoutput['Critical Value (%s)'%key] = value\n",
    "    if abs(dfoutput['Critical Value (1%)']) < abs(dfoutput['Test Statistic']):\n",
    "        print('Series is not stationary with 99% confidence. ')\n",
    "    elif abs(dfoutput['Critical Value (5%)']) < abs(dfoutput['Test Statistic']):\n",
    "        print('Series is not stationary with 95% confidence. ')\n",
    "    elif abs(dfoutput['Critical Value (10%)']) < abs(dfoutput['Test Statistic']):\n",
    "        print('Series is not stationary with 90% confidence. ')\n",
    "    else:\n",
    "        print('Series is possibly stationary. ')\n",
    "    return dfoutput"
   ]
  },
  {
   "cell_type": "code",
   "execution_count": null,
   "metadata": {
    "gradient": {}
   },
   "outputs": [],
   "source": [
    "def eliminate_trends(series):\n",
    "    roll = series.rolling(4).mean()\n",
    "    avg_diff = (series - roll)/roll\n",
    "    avg_diff.dropna(inplace=True)\n",
    "    return avg_diff\n",
    "\n",
    "diff = eliminate_trends(series[5::6])\n",
    "print('-------- ADF Test ---------')\n",
    "out = test_dickey_fuller_stationarity(diff)\n",
    "print(out)\n",
    "print('-------- KPSS Test ---------')\n",
    "out = test_kpss(diff)\n",
    "print(out)"
   ]
  },
  {
   "cell_type": "code",
   "execution_count": null,
   "metadata": {
    "gradient": {}
   },
   "outputs": [],
   "source": [
    "def eliminate_linear_trend(series):\n",
    "    x = np.arange(len(series))\n",
    "    m, c = np.polyfit(x, series, 1)\n",
    "    return (series - c) / m\n",
    "    \n",
    "diff = eliminate_linear_trend(series[5::6])\n",
    "print('-------- ADF Test ---------')\n",
    "out = test_dickey_fuller_stationarity(diff)\n",
    "print(out)\n",
    "print('-------- KPSS Test ---------')\n",
    "out = test_kpss(diff)\n",
    "out = print(out)"
   ]
  },
  {
   "cell_type": "code",
   "execution_count": null,
   "metadata": {
    "gradient": {}
   },
   "outputs": [],
   "source": [
    "def difference(series, lag=1):\n",
    "    differenced = []\n",
    "    for x in range(lag, len(series)):\n",
    "        differenced.append(series[x] - series[x - lag])\n",
    "    return pd.Series(differenced)\n",
    "\n",
    "diff = difference(series[5::6])\n",
    "print('-------- ADF Test ---------')\n",
    "out = test_dickey_fuller_stationarity(diff)\n",
    "print(out)\n",
    "print('-------- KPSS Test ---------')\n",
    "out = test_kpss(diff)\n",
    "print(out)"
   ]
  }
 ],
 "metadata": {
  "kernelspec": {
   "display_name": "Python 3",
   "language": "python",
   "name": "python3"
  },
  "language_info": {
   "codemirror_mode": {
    "name": "ipython",
    "version": 3
   },
   "file_extension": ".py",
   "mimetype": "text/x-python",
   "name": "python",
   "nbconvert_exporter": "python",
   "pygments_lexer": "ipython3",
   "version": "3.6.9"
  }
 },
 "nbformat": 4,
 "nbformat_minor": 4
}
